{
 "cells": [
  {
   "cell_type": "code",
   "execution_count": 2,
   "metadata": {},
   "outputs": [
    {
     "name": "stdout",
     "output_type": "stream",
     "text": [
      "XX^dagger\n",
      "[[1 0]\n",
      " [0 1]]\n",
      "X^daggerX\n",
      "[[1 0]\n",
      " [0 1]]\n"
     ]
    }
   ],
   "source": [
    "import numpy as np\n",
    "X= np.array([[0,1], [1,0]])\n",
    "print(\"XX^dagger\")\n",
    "print(X @ X.T.conj())\n",
    "print(\"X^daggerX\")\n",
    "print(X.T.conj() @ X)"
   ]
  },
  {
   "cell_type": "code",
   "execution_count": 3,
   "metadata": {},
   "outputs": [
    {
     "name": "stdout",
     "output_type": "stream",
     "text": [
      "The norm of the state |0> before applying X\n",
      "1.0\n"
     ]
    }
   ],
   "source": [
    "print(\"The norm of the state |0> before applying X\")\n",
    "zero_ket = np.array([[1], [0]])\n",
    "print(np.linalg.norm(zero_ket))"
   ]
  },
  {
   "cell_type": "code",
   "execution_count": 4,
   "metadata": {},
   "outputs": [
    {
     "name": "stdout",
     "output_type": "stream",
     "text": [
      "The norm of the state |0> after applying X\n",
      "1.0\n"
     ]
    }
   ],
   "source": [
    "print(\"The norm of the state |0> after applying X\")\n",
    "print(np.linalg.norm(X @ zero_ket))"
   ]
  },
  {
   "cell_type": "code",
   "execution_count": 7,
   "metadata": {},
   "outputs": [],
   "source": [
    "import numpy as np\n",
    "from qiskit import *\n",
    "from qiskit.tools.visualization import circuit_drawer\n",
    "np.set_printoptions(precision=3, suppress = True)\n",
    "backend_statevector = Aer.get_backend('statevector_simulator')\n",
    "q = QuantumRegister(1)\n",
    "c = ClassicalRegister(1)\n",
    "circuit = QuantumCircuit(q,c)"
   ]
  },
  {
   "cell_type": "code",
   "execution_count": 9,
   "metadata": {},
   "outputs": [
    {
     "name": "stdout",
     "output_type": "stream",
     "text": [
      "[0.+0.j 1.+0.j]\n"
     ]
    }
   ],
   "source": [
    "circuit.x(q[0])\n",
    "circuit.x(q[0])\n",
    "job = execute(circuit, backend_statevector)\n",
    "print(job.result().get_statevector(circuit))\n"
   ]
  },
  {
   "cell_type": "code",
   "execution_count": 10,
   "metadata": {},
   "outputs": [
    {
     "name": "stdout",
     "output_type": "stream",
     "text": [
      "maximum visibility is a pure state:\n",
      "[[1. 0. 0. 1.]\n",
      " [0. 0. 0. 0.]\n",
      " [0. 0. 0. 0.]\n",
      " [1. 0. 0. 1.]]\n"
     ]
    }
   ],
   "source": [
    "def mixed_state(pure_state, visibility):\n",
    "    density_matrix = pure_state @ pure_state.T.conj()\n",
    "    maximally_mixed_state = np.eye(4)/2**2\n",
    "    return visibility*density_matrix + (1-visibility)*maximally_mixed_state\n",
    "ϕ = np.array([[1], [0], [0], [1]])\n",
    "print(\"maximum visibility is a pure state:\")\n",
    "print(mixed_state(ϕ, 1.0))"
   ]
  },
  {
   "cell_type": "code",
   "execution_count": 11,
   "metadata": {},
   "outputs": [
    {
     "name": "stdout",
     "output_type": "stream",
     "text": [
      "The state is still entangled with visibility 0.8:\n",
      "[[0.85 0.   0.   0.8 ]\n",
      " [0.   0.05 0.   0.  ]\n",
      " [0.   0.   0.05 0.  ]\n",
      " [0.8  0.   0.   0.85]]\n"
     ]
    }
   ],
   "source": [
    "print(\"The state is still entangled with visibility 0.8:\")\n",
    "print(mixed_state(ϕ, 0.8))"
   ]
  },
  {
   "cell_type": "code",
   "execution_count": 12,
   "metadata": {},
   "outputs": [
    {
     "name": "stdout",
     "output_type": "stream",
     "text": [
      "entangkement is lost by 0.6:\n",
      "[[0.7 0.  0.  0.6]\n",
      " [0.  0.1 0.  0. ]\n",
      " [0.  0.  0.1 0. ]\n",
      " [0.6 0.  0.  0.7]]\n"
     ]
    }
   ],
   "source": [
    "print(\"entangkement is lost by 0.6:\")\n",
    "print(mixed_state(ϕ, 0.6))"
   ]
  },
  {
   "cell_type": "code",
   "execution_count": 13,
   "metadata": {},
   "outputs": [
    {
     "name": "stdout",
     "output_type": "stream",
     "text": [
      "Barely any coherence remain by 0.2\n",
      "[[0.4 0.  0.  0.2]\n",
      " [0.  0.2 0.  0. ]\n",
      " [0.  0.  0.2 0. ]\n",
      " [0.2 0.  0.  0.4]]\n"
     ]
    }
   ],
   "source": [
    "print(\"Barely any coherence remain by 0.2\")\n",
    "print(mixed_state(ϕ, 0.2))"
   ]
  },
  {
   "cell_type": "code",
   "execution_count": 21,
   "metadata": {},
   "outputs": [
    {
     "data": {
      "text/plain": [
       "<matplotlib.legend.Legend at 0x20c8f61e808>"
      ]
     },
     "execution_count": 21,
     "metadata": {},
     "output_type": "execute_result"
    },
    {
     "data": {
      "image/png": "[encoded data removed]",
      "text/plain": [
       "<Figure size 432x288 with 1 Axes>"
      ]
     },
     "metadata": {
      "needs_background": "light"
     },
     "output_type": "display_data"
    }
   ],
   "source": [
    "import matplotlib.pyplot as plt\n",
    "temperatures = [0.5, 5, 2000]\n",
    "energies = np.linspace(0,20,100)\n",
    "fig, ax = plt.subplots()\n",
    "for i, T in enumerate(temperatures):\n",
    "    probabilities = np.exp(-energies/T)\n",
    "    z = probabilities.sum()\n",
    "    probabilities /=z\n",
    "    ax.plot(energies, probabilities, linewidth = 3, label= \"$T_\" + str(i+1)+\"$\")\n",
    "#ax.set_xlim(0, 20)\n",
    "#ax.set_ylim(0, 1.2*probabilities.max())\n",
    "#ax.set_xticks([])\n",
    "#ax.set_yticks([])\n",
    "#ax.set_xlabel('energy')\n",
    "#ax.set_ylabel('probability')\n",
    "ax.legend()"
   ]
  },
  {
   "cell_type": "code",
   "execution_count": null,
   "metadata": {},
   "outputs": [],
   "source": []
  }
 ],
 "metadata": {
  "kernelspec": {
   "display_name": "Python 3",
   "language": "python",
   "name": "python3"
  },
  "language_info": {
   "codemirror_mode": {
    "name": "ipython",
    "version": 3
   },
   "file_extension": ".py",
   "mimetype": "text/x-python",
   "name": "python",
   "nbconvert_exporter": "python",
   "pygments_lexer": "ipython3",
   "version": "3.7.6"
  }
 },
 "nbformat": 4,
 "nbformat_minor": 4
}
